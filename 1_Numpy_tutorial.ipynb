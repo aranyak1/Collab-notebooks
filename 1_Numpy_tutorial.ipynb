{
  "nbformat": 4,
  "nbformat_minor": 0,
  "metadata": {
    "colab": {
      "provenance": [],
      "authorship_tag": "ABX9TyNU2XBzuWzcHct6vXPoIxeS",
      "include_colab_link": true
    },
    "kernelspec": {
      "name": "python3",
      "display_name": "Python 3"
    },
    "language_info": {
      "name": "python"
    }
  },
  "cells": [
    {
      "cell_type": "markdown",
      "metadata": {
        "id": "view-in-github",
        "colab_type": "text"
      },
      "source": [
        "<a href=\"https://colab.research.google.com/github/aranyak1/Collab-notebooks/blob/main/1_Numpy_tutorial.ipynb\" target=\"_parent\"><img src=\"https://colab.research.google.com/assets/colab-badge.svg\" alt=\"Open In Colab\"/></a>"
      ]
    },
    {
      "cell_type": "markdown",
      "source": [
        "NumPy - Numerical Python\n",
        "\n",
        "Advantages of Numpy Arrays:\n",
        "\n",
        "1. Allows several Mathematical Operations\n",
        "2. Faster operations\n"
      ],
      "metadata": {
        "id": "vxCgpsblblv1"
      }
    },
    {
      "cell_type": "code",
      "execution_count": 2,
      "metadata": {
        "id": "-NCN0hNSZO_O"
      },
      "outputs": [],
      "source": [
        "import numpy as np"
      ]
    },
    {
      "cell_type": "markdown",
      "source": [
        "List vs Numpy Time taken"
      ],
      "metadata": {
        "id": "u42HTI0udUFM"
      }
    },
    {
      "cell_type": "code",
      "source": [
        "from time import process_time"
      ],
      "metadata": {
        "id": "W7jA_mvtc6_r"
      },
      "execution_count": null,
      "outputs": []
    },
    {
      "cell_type": "code",
      "source": [
        "py_list = [i for i in range(100000)]\n",
        "\n",
        "start_time = process_time()\n",
        "\n",
        "py_list = [i+5 for i in py_list]\n",
        "\n",
        "end_time = process_time()\n",
        "\n",
        "print(end_time - start_time)"
      ],
      "metadata": {
        "colab": {
          "base_uri": "https://localhost:8080/"
        },
        "id": "IL-W4sX3dgBM",
        "outputId": "591c6ac0-b738-4af1-8da9-128d732a9925"
      },
      "execution_count": null,
      "outputs": [
        {
          "output_type": "stream",
          "name": "stdout",
          "text": [
            "10.471160803\n"
          ]
        }
      ]
    },
    {
      "cell_type": "code",
      "source": [
        "np_arr = np.array([i for i in range(100000)])\n",
        "\n",
        "start_time = process_time()\n",
        "\n",
        "np_arr += 5 # same as np_arr = np_arr + 5 it adds 5 to all the element in a list\n",
        "\n",
        "end_time = process_time()\n",
        "\n",
        "print(end_time - start_time)"
      ],
      "metadata": {
        "colab": {
          "base_uri": "https://localhost:8080/"
        },
        "id": "xP7t2yPweLWj",
        "outputId": "6b90a4b4-0bc3-4225-cd0f-c8419200a0f0"
      },
      "execution_count": null,
      "outputs": [
        {
          "output_type": "stream",
          "name": "stdout",
          "text": [
            "0.12308107199999796\n"
          ]
        }
      ]
    },
    {
      "cell_type": "code",
      "source": [
        "np_arr = np.array([1,2,3,4,5])\n",
        "print(np_arr)\n",
        "type(np_arr)"
      ],
      "metadata": {
        "id": "jUqeZM-qe2lL",
        "colab": {
          "base_uri": "https://localhost:8080/"
        },
        "outputId": "395fbc6e-9053-4ec5-ae99-3359c67f7bd9"
      },
      "execution_count": null,
      "outputs": [
        {
          "output_type": "stream",
          "name": "stdout",
          "text": [
            "[1 2 3 4 5]\n"
          ]
        },
        {
          "output_type": "execute_result",
          "data": {
            "text/plain": [
              "numpy.ndarray"
            ]
          },
          "metadata": {},
          "execution_count": 4
        }
      ]
    },
    {
      "cell_type": "code",
      "source": [
        "np_arr.shape # Gives Dimensions of the arr"
      ],
      "metadata": {
        "colab": {
          "base_uri": "https://localhost:8080/"
        },
        "id": "3UofNA8e5Y2V",
        "outputId": "cc18f7e4-1589-4863-d243-be2017cbb2ad"
      },
      "execution_count": null,
      "outputs": [
        {
          "output_type": "execute_result",
          "data": {
            "text/plain": [
              "(5,)"
            ]
          },
          "metadata": {},
          "execution_count": 5
        }
      ]
    },
    {
      "cell_type": "code",
      "source": [
        "b = np.array([(1,2,3,4),(5,6,7,8)])"
      ],
      "metadata": {
        "id": "yLX8rHAL6I-c"
      },
      "execution_count": null,
      "outputs": []
    },
    {
      "cell_type": "code",
      "source": [
        "b.shape"
      ],
      "metadata": {
        "colab": {
          "base_uri": "https://localhost:8080/"
        },
        "id": "wpNjzVsz7Ld3",
        "outputId": "699153de-3dfa-40a7-9316-d4bb065705fa"
      },
      "execution_count": null,
      "outputs": [
        {
          "output_type": "execute_result",
          "data": {
            "text/plain": [
              "(2, 4)"
            ]
          },
          "metadata": {},
          "execution_count": 7
        }
      ]
    },
    {
      "cell_type": "code",
      "source": [
        "b = np.array([(1,2,3,4),(5,6,7,8)],dtype=float)\n",
        "print(b)"
      ],
      "metadata": {
        "colab": {
          "base_uri": "https://localhost:8080/"
        },
        "id": "1cr09d2W7Np_",
        "outputId": "4d8dd4fb-97d8-464e-bdfe-ae5dc5440263"
      },
      "execution_count": null,
      "outputs": [
        {
          "output_type": "stream",
          "name": "stdout",
          "text": [
            "[[1. 2. 3. 4.]\n",
            " [5. 6. 7. 8.]]\n"
          ]
        }
      ]
    },
    {
      "cell_type": "markdown",
      "source": [
        "Initial placeholders for arrays"
      ],
      "metadata": {
        "id": "B4LuhOC88Nzf"
      }
    },
    {
      "cell_type": "code",
      "source": [
        "# Creating a numpy array of zeroes\n",
        "\n",
        "x = np.zeros((4,5)) # (4,5) are dimensions of the array\n",
        "print(x)"
      ],
      "metadata": {
        "colab": {
          "base_uri": "https://localhost:8080/"
        },
        "id": "u8h4eETS7Wt0",
        "outputId": "70bca861-6c37-4325-a4ea-78d5917df755"
      },
      "execution_count": null,
      "outputs": [
        {
          "output_type": "stream",
          "name": "stdout",
          "text": [
            "[[0. 0. 0. 0. 0.]\n",
            " [0. 0. 0. 0. 0.]\n",
            " [0. 0. 0. 0. 0.]\n",
            " [0. 0. 0. 0. 0.]]\n"
          ]
        }
      ]
    },
    {
      "cell_type": "code",
      "source": [
        "# Creating a numpy array of ones\n",
        "\n",
        "x = np.ones((4,5))\n",
        "print(x)"
      ],
      "metadata": {
        "colab": {
          "base_uri": "https://localhost:8080/"
        },
        "id": "dmBuLM9v9IOl",
        "outputId": "bd4af8ff-2448-456c-a81c-39be939ebe8c"
      },
      "execution_count": null,
      "outputs": [
        {
          "output_type": "stream",
          "name": "stdout",
          "text": [
            "[[1. 1. 1. 1. 1.]\n",
            " [1. 1. 1. 1. 1.]\n",
            " [1. 1. 1. 1. 1.]\n",
            " [1. 1. 1. 1. 1.]]\n"
          ]
        }
      ]
    },
    {
      "cell_type": "code",
      "source": [
        "# Creating a numpy array of a given value\n",
        "\n",
        "x = np.full((3,3),-9)\n",
        "print(x)"
      ],
      "metadata": {
        "colab": {
          "base_uri": "https://localhost:8080/"
        },
        "id": "p4p0ntqa9QXt",
        "outputId": "7893f99a-49c0-4ae6-f193-2d3d979b3a69"
      },
      "execution_count": null,
      "outputs": [
        {
          "output_type": "stream",
          "name": "stdout",
          "text": [
            "[[-9 -9 -9]\n",
            " [-9 -9 -9]\n",
            " [-9 -9 -9]]\n"
          ]
        }
      ]
    },
    {
      "cell_type": "code",
      "source": [
        "# Create an identity matrix.Identity matrix is a matrix where diagonal values are 1 and other values are 0 and for identity matrix no of rows are equal to no of cols\n",
        "\n",
        "y = np.eye(5)\n",
        "print(y)"
      ],
      "metadata": {
        "colab": {
          "base_uri": "https://localhost:8080/"
        },
        "id": "5VP2WYuw9X6t",
        "outputId": "f8347d46-a194-4da9-a570-65d2fcfd9d1e"
      },
      "execution_count": null,
      "outputs": [
        {
          "output_type": "stream",
          "name": "stdout",
          "text": [
            "[[1. 0. 0. 0. 0.]\n",
            " [0. 1. 0. 0. 0.]\n",
            " [0. 0. 1. 0. 0.]\n",
            " [0. 0. 0. 1. 0.]\n",
            " [0. 0. 0. 0. 1.]]\n"
          ]
        }
      ]
    },
    {
      "cell_type": "code",
      "source": [
        "# Create a np array with random values\n",
        "\n",
        "z = np.random.random((3,4)) # this will give values between 0 and 1\n",
        "print(z)"
      ],
      "metadata": {
        "colab": {
          "base_uri": "https://localhost:8080/"
        },
        "id": "uDZzN0IE-58V",
        "outputId": "7d56c218-8b14-4603-d14d-1622ea245a40"
      },
      "execution_count": null,
      "outputs": [
        {
          "output_type": "stream",
          "name": "stdout",
          "text": [
            "[[0.08495367 0.21580259 0.82506812 0.43605551]\n",
            " [0.2912394  0.5138185  0.29246658 0.6217579 ]\n",
            " [0.71942103 0.06036613 0.48069219 0.39743511]]\n"
          ]
        }
      ]
    },
    {
      "cell_type": "code",
      "source": [
        "# Create a np array with random integer values\n",
        "\n",
        "z = np.random.randint(10,100,(5,6)) # this will give values between 10 and 100\n",
        "print(z)"
      ],
      "metadata": {
        "colab": {
          "base_uri": "https://localhost:8080/"
        },
        "id": "cnIfk1DqAUYs",
        "outputId": "f8fe7eab-a902-4c44-a225-8984a1404358"
      },
      "execution_count": null,
      "outputs": [
        {
          "output_type": "stream",
          "name": "stdout",
          "text": [
            "[[20 14 22 74 90 14]\n",
            " [54 56 76 38 52 22]\n",
            " [15 10 25 98 69 94]\n",
            " [23 77 52 17 81 77]\n",
            " [65 83 48 96 22 39]]\n"
          ]
        }
      ]
    },
    {
      "cell_type": "code",
      "source": [
        "# Create array of evenly spaced values --> specifying the no of values required\n",
        "\n",
        "z = np.linspace(10,30,5) # It gives 5 evenly spaced values between 10 and 30\n",
        "print(z)"
      ],
      "metadata": {
        "id": "tvn0QhQSApL2",
        "colab": {
          "base_uri": "https://localhost:8080/"
        },
        "outputId": "0b7612b9-df62-4a39-9ef9-003bdbadc360"
      },
      "execution_count": null,
      "outputs": [
        {
          "output_type": "stream",
          "name": "stdout",
          "text": [
            "[10. 15. 20. 25. 30.]\n"
          ]
        }
      ]
    },
    {
      "cell_type": "code",
      "source": [
        "# Create array of evenly spaced values --> specifying the step value\n",
        "\n",
        "z = np.arange(10,30,7)\n",
        "print(z)"
      ],
      "metadata": {
        "colab": {
          "base_uri": "https://localhost:8080/"
        },
        "id": "4eyUo5fZa5YA",
        "outputId": "292a8a3f-fd3c-4b69-84d3-e4337099e3f3"
      },
      "execution_count": null,
      "outputs": [
        {
          "output_type": "stream",
          "name": "stdout",
          "text": [
            "[10 17 24]\n"
          ]
        }
      ]
    },
    {
      "cell_type": "code",
      "source": [
        "# Convert a list to numpy array\n",
        "\n",
        "list1 = [1,2,3,4,5]\n",
        "np_arr = np.asarray(list1)\n",
        "print(np_arr)"
      ],
      "metadata": {
        "colab": {
          "base_uri": "https://localhost:8080/"
        },
        "id": "QXV9V5AibxcG",
        "outputId": "e0c05b0a-b478-4ecd-e0f0-fa4fda1f7651"
      },
      "execution_count": null,
      "outputs": [
        {
          "output_type": "stream",
          "name": "stdout",
          "text": [
            "[1 2 3 4 5]\n"
          ]
        }
      ]
    },
    {
      "cell_type": "markdown",
      "source": [
        "Analyzing a numpy array"
      ],
      "metadata": {
        "id": "M7R-TUevckSC"
      }
    },
    {
      "cell_type": "code",
      "source": [
        "c = np.random.randint(10,50,(3,4))\n",
        "print(c)"
      ],
      "metadata": {
        "colab": {
          "base_uri": "https://localhost:8080/"
        },
        "id": "YiR3MIE4cREq",
        "outputId": "f657e7f1-deed-40d3-a3c9-65d7768cc89d"
      },
      "execution_count": null,
      "outputs": [
        {
          "output_type": "stream",
          "name": "stdout",
          "text": [
            "[[38 35 25 21]\n",
            " [32 24 27 45]\n",
            " [38 19 45 37]]\n"
          ]
        }
      ]
    },
    {
      "cell_type": "code",
      "source": [
        "print(c.shape)"
      ],
      "metadata": {
        "colab": {
          "base_uri": "https://localhost:8080/"
        },
        "id": "CD41-Kqvc4DZ",
        "outputId": "2dafcb16-7ad7-4661-c380-97b7b82195f6"
      },
      "execution_count": null,
      "outputs": [
        {
          "output_type": "stream",
          "name": "stdout",
          "text": [
            "(3, 4)\n"
          ]
        }
      ]
    },
    {
      "cell_type": "code",
      "source": [
        "print(c.ndim) # gives no of dimensions"
      ],
      "metadata": {
        "colab": {
          "base_uri": "https://localhost:8080/"
        },
        "id": "MFYLwlr1c8qu",
        "outputId": "577723d3-ddca-4483-ffee-141c4a121e9c"
      },
      "execution_count": null,
      "outputs": [
        {
          "output_type": "stream",
          "name": "stdout",
          "text": [
            "2\n"
          ]
        }
      ]
    },
    {
      "cell_type": "code",
      "source": [
        "print(c.size) # gives no of elements"
      ],
      "metadata": {
        "colab": {
          "base_uri": "https://localhost:8080/"
        },
        "id": "V8dKmk9qc_bF",
        "outputId": "4d3cf9a5-9876-4561-9375-26de3e8ebb43"
      },
      "execution_count": null,
      "outputs": [
        {
          "output_type": "stream",
          "name": "stdout",
          "text": [
            "12\n"
          ]
        }
      ]
    },
    {
      "cell_type": "code",
      "source": [
        "# checkin datatype of values in an array\n",
        "print(c.dtype)"
      ],
      "metadata": {
        "colab": {
          "base_uri": "https://localhost:8080/"
        },
        "id": "LFL4DKoTdMzI",
        "outputId": "85ac2083-bf3b-4d45-c00a-a8c0dd3db507"
      },
      "execution_count": null,
      "outputs": [
        {
          "output_type": "stream",
          "name": "stdout",
          "text": [
            "int64\n"
          ]
        }
      ]
    },
    {
      "cell_type": "markdown",
      "source": [
        "Mathematical operations"
      ],
      "metadata": {
        "id": "iUGQVDQNdytz"
      }
    },
    {
      "cell_type": "code",
      "source": [
        "list1 = [1,2,3,4,5]\n",
        "list2 = [6,7,8,9,10]\n",
        "\n",
        "print(list1 + list2) # concatenates list"
      ],
      "metadata": {
        "colab": {
          "base_uri": "https://localhost:8080/"
        },
        "id": "VpmaEDitdrra",
        "outputId": "b600dfa2-9bbb-4186-8072-91de2b9250e4"
      },
      "execution_count": null,
      "outputs": [
        {
          "output_type": "stream",
          "name": "stdout",
          "text": [
            "[1, 2, 3, 4, 5, 6, 7, 8, 9, 10]\n"
          ]
        }
      ]
    },
    {
      "cell_type": "code",
      "source": [
        "a = np.random.randint(0,10,(3,3))\n",
        "b = np.random.randint(20,30,(3,3))\n",
        "print(a)\n",
        "print(b)"
      ],
      "metadata": {
        "colab": {
          "base_uri": "https://localhost:8080/"
        },
        "id": "qSblie-eeJfB",
        "outputId": "55618dc6-6fc4-4bf9-a4d9-34507df850bf"
      },
      "execution_count": null,
      "outputs": [
        {
          "output_type": "stream",
          "name": "stdout",
          "text": [
            "[[0 1 9]\n",
            " [9 4 2]\n",
            " [9 8 8]]\n",
            "[[25 22 27]\n",
            " [25 28 28]\n",
            " [25 27 21]]\n"
          ]
        }
      ]
    },
    {
      "cell_type": "code",
      "source": [
        "print(a+b)\n",
        "print(a-b)\n",
        "print(a*b)\n",
        "print(a/b)"
      ],
      "metadata": {
        "colab": {
          "base_uri": "https://localhost:8080/"
        },
        "id": "HGeBTS1Xelnv",
        "outputId": "eddb219f-ce40-429c-cf94-650db7f48007"
      },
      "execution_count": null,
      "outputs": [
        {
          "output_type": "stream",
          "name": "stdout",
          "text": [
            "[[25 23 36]\n",
            " [34 32 30]\n",
            " [34 35 29]]\n",
            "[[-25 -21 -18]\n",
            " [-16 -24 -26]\n",
            " [-16 -19 -13]]\n",
            "[[  0  22 243]\n",
            " [225 112  56]\n",
            " [225 216 168]]\n",
            "[[0.         0.04545455 0.33333333]\n",
            " [0.36       0.14285714 0.07142857]\n",
            " [0.36       0.2962963  0.38095238]]\n"
          ]
        }
      ]
    },
    {
      "cell_type": "code",
      "source": [
        "# We can also do above arithmetic operations like below\n",
        "print(np.add(a,b))\n",
        "print(np.subtract(a,b))\n",
        "print(np.multiply(a,b))\n",
        "print(np.divide(a,b))"
      ],
      "metadata": {
        "colab": {
          "base_uri": "https://localhost:8080/"
        },
        "id": "9XnREN69exAi",
        "outputId": "3093a47a-65e4-41f8-fdf1-f5cfe3d0f912"
      },
      "execution_count": null,
      "outputs": [
        {
          "output_type": "stream",
          "name": "stdout",
          "text": [
            "[[25 23 36]\n",
            " [34 32 30]\n",
            " [34 35 29]]\n",
            "[[-25 -21 -18]\n",
            " [-16 -24 -26]\n",
            " [-16 -19 -13]]\n",
            "[[  0  22 243]\n",
            " [225 112  56]\n",
            " [225 216 168]]\n",
            "[[0.         0.04545455 0.33333333]\n",
            " [0.36       0.14285714 0.07142857]\n",
            " [0.36       0.2962963  0.38095238]]\n"
          ]
        }
      ]
    },
    {
      "cell_type": "markdown",
      "source": [
        "Array manipulation"
      ],
      "metadata": {
        "id": "z9-0RvGx_Y8O"
      }
    },
    {
      "cell_type": "code",
      "source": [
        "a = np.random.randint(0,10,(2,3))\n",
        "print(a)"
      ],
      "metadata": {
        "id": "1QUeBbXEf1Ba",
        "colab": {
          "base_uri": "https://localhost:8080/"
        },
        "outputId": "d667fa67-d0d1-4ec1-a0da-8f2c1e67a116"
      },
      "execution_count": 3,
      "outputs": [
        {
          "output_type": "stream",
          "name": "stdout",
          "text": [
            "[[5 5 5]\n",
            " [5 3 9]]\n"
          ]
        }
      ]
    },
    {
      "cell_type": "code",
      "source": [
        "trans = np.transpose(a)\n",
        "print(trans)"
      ],
      "metadata": {
        "colab": {
          "base_uri": "https://localhost:8080/"
        },
        "id": "OLTFQofgAEVl",
        "outputId": "f509bb5b-60ab-4ca9-8483-56f8bb1cf7f0"
      },
      "execution_count": 4,
      "outputs": [
        {
          "output_type": "stream",
          "name": "stdout",
          "text": [
            "[[5 5]\n",
            " [5 3]\n",
            " [5 9]]\n"
          ]
        }
      ]
    },
    {
      "cell_type": "code",
      "source": [
        "a = np.random.randint(0,10,(2,3))\n",
        "print(a)"
      ],
      "metadata": {
        "colab": {
          "base_uri": "https://localhost:8080/"
        },
        "id": "iXXdfYw5BbzQ",
        "outputId": "4c0603dc-4890-41ba-bb0e-54a40afe9781"
      },
      "execution_count": 6,
      "outputs": [
        {
          "output_type": "stream",
          "name": "stdout",
          "text": [
            "[[6 9 1]\n",
            " [1 3 4]]\n"
          ]
        }
      ]
    },
    {
      "cell_type": "code",
      "source": [
        "trans1 = a.T\n",
        "print(trans1)"
      ],
      "metadata": {
        "colab": {
          "base_uri": "https://localhost:8080/"
        },
        "id": "7vu5dRiwHIOQ",
        "outputId": "d016a9f8-fa27-4217-8dcd-4f52b3c9b371"
      },
      "execution_count": 7,
      "outputs": [
        {
          "output_type": "stream",
          "name": "stdout",
          "text": [
            "[[6 1]\n",
            " [9 3]\n",
            " [1 4]]\n"
          ]
        }
      ]
    },
    {
      "cell_type": "code",
      "source": [
        "# reshaping an array\n",
        "\n",
        "z = np.random.randint(0,10,(2,3))\n",
        "print(z)\n",
        "print(z.shape)"
      ],
      "metadata": {
        "colab": {
          "base_uri": "https://localhost:8080/"
        },
        "id": "_e0RIF9HHOgk",
        "outputId": "2fa73154-2b4e-40c6-f5bd-9e2d753a0a9a"
      },
      "execution_count": 9,
      "outputs": [
        {
          "output_type": "stream",
          "name": "stdout",
          "text": [
            "[[2 9 1]\n",
            " [5 8 9]]\n",
            "(2, 3)\n"
          ]
        }
      ]
    },
    {
      "cell_type": "code",
      "source": [
        "y = z.reshape(3,2)\n",
        "print(y)\n",
        "print(y.shape)"
      ],
      "metadata": {
        "colab": {
          "base_uri": "https://localhost:8080/"
        },
        "id": "TItcnYZ_H1x0",
        "outputId": "cd6f1f8e-46df-4bcc-afd3-08ba5845358e"
      },
      "execution_count": 11,
      "outputs": [
        {
          "output_type": "stream",
          "name": "stdout",
          "text": [
            "[[2 9]\n",
            " [1 5]\n",
            " [8 9]]\n",
            "(3, 2)\n"
          ]
        }
      ]
    }
  ]
}